{
 "cells": [
  {
   "cell_type": "markdown",
   "metadata": {},
   "source": [
    "<a href='https://www.darshan.ac.in/'> <img src='https://www.darshan.ac.in/Content/media/DU_Logo.svg' width=\"250\" height=\"300\"/></a>\n",
    "<pre>\n",
    "<center><b><h1>Python Programming - 2301CS404</b></center>\n",
    "<center><b><h1>Lab - 13</b></center>\n",
    "<center><b><h1>Name:Dhairya Adroja</b></center>    \n",
    "<center><b><h1>Enrollment no:24010101602</b></center>    \n",
    "<center><b><h1>Date:20/02/2025</b></center>\n",
    "<pre>"
   ]
  },
  {
   "cell_type": "markdown",
   "metadata": {},
   "source": [
    "# OOP"
   ]
  },
  {
   "cell_type": "markdown",
   "metadata": {},
   "source": [
    "### 01) Write a Program to create a class by name Students, and initialize attributes like name, age, and grade while creating an object."
   ]
  },
  {
   "cell_type": "code",
   "execution_count": 26,
   "metadata": {},
   "outputs": [
    {
     "name": "stdout",
     "output_type": "stream",
     "text": [
      "Harpal 20 A\n"
     ]
    }
   ],
   "source": [
    "class Students:\n",
    "    name=''\n",
    "    age = 0\n",
    "    grade = ''\n",
    "    def __init__(self, name, age, grade):\n",
    "        self.name = name\n",
    "        self.age = age\n",
    "        self.grade = grade\n",
    "    \n",
    "    def display(self):\n",
    "        print(self.name, self.age, self.grade)\n",
    "\n",
    "s1 = Students('Harpal', 20, 'A')\n",
    "s1.display()"
   ]
  },
  {
   "cell_type": "markdown",
   "metadata": {},
   "source": [
    "### 02) Create a class named Bank_Account with Account_No, User_Name, Email,Account_Type and Account_Balance data members. Also create a method GetAccountDetails() and DisplayAccountDetails(). Create main method to demonstrate the Bank_Account class."
   ]
  },
  {
   "cell_type": "code",
   "execution_count": 27,
   "metadata": {},
   "outputs": [
    {
     "name": "stdout",
     "output_type": "stream",
     "text": [
      "Account Number: 123456789\n",
      "Username: Harpalsinh\n",
      "Email: harpalsinh2020@gmail.com\n",
      "Account Type: Savings\n",
      "Account Balance: 1000\n"
     ]
    }
   ],
   "source": [
    "class Bank_Account: \n",
    "    account_no = 0\n",
    "    username = ''\n",
    "    email = ''\n",
    "    account_type = ''\n",
    "    account_balance = 0\n",
    "\n",
    "    def __init__(self, account_no, username, email, account_type, account_balance):\n",
    "        self.account_no = account_no\n",
    "        self.username = username\n",
    "        self.email = email\n",
    "        self.account_type = account_type\n",
    "        self.account_balance = account_balance\n",
    "\n",
    "    def display_account_details(self):\n",
    "        print('Account Number:', self.account_no)\n",
    "        print('Username:', self.username)\n",
    "        print('Email:', self.email)\n",
    "        print('Account Type:', self.account_type)\n",
    "        print('Account Balance:', self.account_balance)\n",
    "\n",
    "def main():\n",
    "    account1 = Bank_Account(account_no=123456789, username='Harpalsinh', email='harpalsinh2020@gmail.com', account_type='Savings', account_balance=1000)\n",
    "    account1.display_account_details()\n",
    "\n",
    "main()"
   ]
  },
  {
   "cell_type": "markdown",
   "metadata": {},
   "source": [
    "### 03) WAP to create Circle class with area and perimeter function to find area and perimeter of circle."
   ]
  },
  {
   "cell_type": "code",
   "execution_count": 28,
   "metadata": {},
   "outputs": [
    {
     "name": "stdout",
     "output_type": "stream",
     "text": [
      "78.5\n",
      "31.400000000000002\n"
     ]
    }
   ],
   "source": [
    "class Circle:\n",
    "    def __init__(self, radius):\n",
    "        self.radius = radius\n",
    "    def area(self):\n",
    "        return 3.14 * self.radius * self.radius\n",
    "    def perimeter(self):\n",
    "        return 2 * 3.14 * self.radius\n",
    "\n",
    "c = Circle(5)\n",
    "print(c.area())\n",
    "print(c.perimeter())"
   ]
  },
  {
   "cell_type": "markdown",
   "metadata": {},
   "source": [
    "### 04) Create a class for employees that includes attributes such as name, age, salary, and methods to update and display employee information."
   ]
  },
  {
   "cell_type": "code",
   "execution_count": 29,
   "metadata": {},
   "outputs": [
    {
     "name": "stdout",
     "output_type": "stream",
     "text": [
      "Name: Harpal\n",
      "Age: 25\n",
      "Salary: 50000\n",
      "Name: Harpalsinh\n",
      "Age: 26\n",
      "Salary: 60000\n"
     ]
    }
   ],
   "source": [
    "class Employee:\n",
    "    name = ''\n",
    "    age = 0\n",
    "    salary = 0\n",
    "\n",
    "    def __init__(self, name, age, salary):\n",
    "        self.name = name\n",
    "        self.age = age\n",
    "        self.salary = salary\n",
    "\n",
    "    def display(self):\n",
    "        print(f'Name: {self.name}')\n",
    "        print(f'Age: {self.age}')\n",
    "        print(f'Salary: {self.salary}')\n",
    "\n",
    "    def update(self, name='', age=0, salary=0):\n",
    "        self.name = name\n",
    "        self.age = age\n",
    "        self.salary = salary\n",
    "\n",
    "employee = Employee('Harpal', 25, 50000)\n",
    "employee.display()\n",
    "employee.update(name='Harpalsinh', age=26, salary=60000)\n",
    "employee.display()"
   ]
  },
  {
   "cell_type": "markdown",
   "metadata": {},
   "source": [
    "### 05) Create a bank account class with methods to deposit, withdraw, and check balance."
   ]
  },
  {
   "cell_type": "code",
   "execution_count": 30,
   "metadata": {},
   "outputs": [
    {
     "name": "stdout",
     "output_type": "stream",
     "text": [
      "1300\n"
     ]
    }
   ],
   "source": [
    "class bank_account:\n",
    "    balance = 0\n",
    "    def __init__(self, balance):\n",
    "        self.balance = balance\n",
    "    def deposit(self, amount):\n",
    "        self.balance += amount\n",
    "    def withdraw(self, amount):\n",
    "        if self.balance >= amount:\n",
    "            self.balance -= amount\n",
    "        else:\n",
    "            print(\"Insufficient funds\")\n",
    "    def display_balance(self):\n",
    "        print(self.balance)\n",
    "\n",
    "account = bank_account(1000)\n",
    "account.deposit(500)\n",
    "account.withdraw(200)\n",
    "account.display_balance()"
   ]
  },
  {
   "cell_type": "markdown",
   "metadata": {},
   "source": [
    "### 06) Create a class for managing inventory that includes attributes such as item name, price, quantity, and methods to add, remove, and update items."
   ]
  },
  {
   "cell_type": "code",
   "execution_count": 31,
   "metadata": {},
   "outputs": [
    {
     "name": "stdout",
     "output_type": "stream",
     "text": [
      "appned\n",
      "new qty:  30\n",
      "appned\n",
      "appned\n",
      "Inventory: \n",
      "\n",
      "Item Name: Orange\n",
      "Item Price: 1.5\n",
      "Item Quantity: 10\n",
      "Item Name: Banana\n",
      "Item Price: 3.5\n",
      "Item Quantity: 30\n",
      "------------------------\n"
     ]
    }
   ],
   "source": [
    "class Inventory:\n",
    "    inventory = []\n",
    "    item_name = ''\n",
    "    item_price = ''\n",
    "    item_quantity = 0\n",
    "    \n",
    "    def __init__(self):\n",
    "        self.inventory=[]\n",
    "        \n",
    "    def add(self, item_name, item_price, item_quantity):\n",
    "        for i in self.inventory:\n",
    "            if i['item_name'] == item_name:\n",
    "                i['item_quantity'] =  i['item_quantity']  + int(item_quantity)\n",
    "                print('new qty: ', i['item_quantity'])\n",
    "                return\n",
    "        print(\"appned\")\n",
    "        self.inventory.append({\n",
    "            'item_name': item_name,\n",
    "            'item_price': item_price,\n",
    "            'item_quantity': int(item_quantity)\n",
    "        })\n",
    "\n",
    "    def remove(self, item_name):\n",
    "        for i in self.inventory:\n",
    "            if i['item_name'] == item_name: \n",
    "                self.inventory.remove(i)\n",
    "                break\n",
    "\n",
    "    def update(self, item_name, item_price, item_quantity):\n",
    "        for i in self.inventory:\n",
    "            if i['item_name'] == item_name:\n",
    "                i['item_price'] = item_price\n",
    "                i['item_quantity'] = item_quantity\n",
    "                break\n",
    "\n",
    "    def display(self):\n",
    "        print(\"Inventory: \\n\")\n",
    "        for i in self.inventory:\n",
    "            print(f'Item Name: {i['item_name']}')\n",
    "            print(f'Item Price: {i['item_price']}')\n",
    "            print(f'Item Quantity: {i['item_quantity']}')\n",
    "        print(\"------------------------\")\n",
    "\n",
    "inv = Inventory()\n",
    "inv.add('Apple', '1.5', '10')\n",
    "inv.add('Apple', '1.5', '20')\n",
    "\n",
    "inv.add('Orange', '2.5', '20')\n",
    "inv.add('Banana', '3.5', '30')\n",
    "inv.remove('Apple')\n",
    "inv.update('Orange', '1.5', '10')   \n",
    "inv.display()\n"
   ]
  },
  {
   "cell_type": "markdown",
   "metadata": {},
   "source": [
    "### 07) Create a Class with instance attributes of your choice."
   ]
  },
  {
   "cell_type": "code",
   "execution_count": 32,
   "metadata": {},
   "outputs": [
    {
     "name": "stdout",
     "output_type": "stream",
     "text": [
      "1\n"
     ]
    }
   ],
   "source": [
    "class demo: \n",
    "    a = 1\n",
    "    def __init__(self): \n",
    "        print(self.a)\n",
    "\n",
    "d = demo()"
   ]
  },
  {
   "cell_type": "markdown",
   "metadata": {},
   "source": [
    "### 08) Create one class student_kit\n",
    "#### Within the student_kit class create one class attribute principal name ( Mr ABC )\n",
    "#### Create one attendance method and take input as number of days.\n",
    "#### While creating student take input their name .\n",
    "#### Create one certificate for each student by taking input of number of days present in class."
   ]
  },
  {
   "cell_type": "code",
   "execution_count": 33,
   "metadata": {},
   "outputs": [
    {
     "name": "stdout",
     "output_type": "stream",
     "text": [
      "student has 15 days attendance given by demo\n"
     ]
    }
   ],
   "source": [
    "class Student_Kit:\n",
    "    principal_name = 'demo'\n",
    "    present_days = 0\n",
    "\n",
    "    def __init__(self,student_name):\n",
    "        self.student_name = student_name\n",
    "\n",
    "    def attendance(self,days):\n",
    "        self.present_days =  self.present_days + days\n",
    "\n",
    "    def get_certificate(self):\n",
    "        print(f'{self.student_name} has {self.present_days} days attendance given by {self.principal_name}')\n",
    "\n",
    "student_kit = Student_Kit('student')\n",
    "student_kit.attendance(10)\n",
    "student_kit.attendance(5)\n",
    "student_kit.get_certificate()"
   ]
  },
  {
   "cell_type": "markdown",
   "metadata": {},
   "source": [
    "### 09) Define Time class with hour and minute as data member. Also define addition method to add two time objects."
   ]
  },
  {
   "cell_type": "code",
   "execution_count": 34,
   "metadata": {},
   "outputs": [
    {
     "name": "stdout",
     "output_type": "stream",
     "text": [
      "15 60\n"
     ]
    }
   ],
   "source": [
    "class Time:\n",
    "    def __init__(self, hour, minute):\n",
    "        self.hour = hour\n",
    "        self.minute = minute\n",
    "\n",
    "    def addTwoTime(self, time):\n",
    "        return Time(self.hour + time.hour, self.minute + time.minute)\n",
    "    \n",
    "t = Time(10, 30)\n",
    "t1 = Time(5, 30)\n",
    "t2 = t.addTwoTime(t1)\n",
    "print(t2.hour, t2.minute)"
   ]
  }
 ],
 "metadata": {
  "kernelspec": {
   "display_name": "base",
   "language": "python",
   "name": "python3"
  },
  "language_info": {
   "codemirror_mode": {
    "name": "ipython",
    "version": 3
   },
   "file_extension": ".py",
   "mimetype": "text/x-python",
   "name": "python",
   "nbconvert_exporter": "python",
   "pygments_lexer": "ipython3",
   "version": "3.12.7"
  }
 },
 "nbformat": 4,
 "nbformat_minor": 4
}
