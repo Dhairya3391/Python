{
 "cells": [
  {
   "cell_type": "markdown",
   "metadata": {},
   "source": [
    "\n",
    "<a href='https://www.darshan.ac.in/'> <img src='https://www.darshan.ac.in/Content/media/DU_Logo.svg' width=\"250\" height=\"300\"/></a>\n",
    "<pre>\n",
    "<center><b><h1>Python Programming - 2301CS404</b></center>\n",
    "<center><b><h1>Lab - 2</b></center>\n",
    "<center><b><h1>Name:Dhairya Adroja</b></center>    \n",
    "<center><b><h1>Enrollment no:24010101602</b></center>    \n",
    "<center><b><h1>Date:05/12/2024</b></center>  \n",
    "<pre>"
   ]
  },
  {
   "cell_type": "markdown",
   "metadata": {},
   "source": [
    "# if..else.."
   ]
  },
  {
   "cell_type": "markdown",
   "metadata": {},
   "source": [
    "### 01) WAP to check whether the given number is positive or negative."
   ]
  },
  {
   "cell_type": "code",
   "execution_count": 2,
   "metadata": {},
   "outputs": [
    {
     "name": "stdout",
     "output_type": "stream",
     "text": [
      "it is negative\n"
     ]
    }
   ],
   "source": [
    "num = int(input())\n",
    "result = \"it is positive\" if num > 0 else \"it is negative\"\n",
    "print(result)"
   ]
  },
  {
   "cell_type": "markdown",
   "metadata": {},
   "source": [
    "### 02) WAP to check whether the given number is odd or even."
   ]
  },
  {
   "cell_type": "code",
   "execution_count": 5,
   "metadata": {},
   "outputs": [
    {
     "name": "stdout",
     "output_type": "stream",
     "text": [
      "it is odd\n"
     ]
    }
   ],
   "source": [
    "num = int(input())\n",
    "result = \"it is odd\" if num%2==1 else \"it is even\"\n",
    "print(result)"
   ]
  },
  {
   "cell_type": "markdown",
   "metadata": {},
   "source": [
    "### 03) WAP to find out largest number from given two numbers using simple if and ternary operator."
   ]
  },
  {
   "cell_type": "code",
   "execution_count": 11,
   "metadata": {},
   "outputs": [
    {
     "name": "stdout",
     "output_type": "stream",
     "text": [
      "second num is big 3\n"
     ]
    }
   ],
   "source": [
    "a = int(input())\n",
    "b = int(input())\n",
    "result = f\"first num is big num{a}\"  if a>b else f\"second num is big {b}\"\n",
    "print(result)"
   ]
  },
  {
   "cell_type": "markdown",
   "metadata": {},
   "source": [
    "### 04) WAP to find out largest number from given three numbers."
   ]
  },
  {
   "cell_type": "code",
   "execution_count": 12,
   "metadata": {},
   "outputs": [
    {
     "name": "stdout",
     "output_type": "stream",
     "text": [
      "num :5 is biggest\n"
     ]
    }
   ],
   "source": [
    "a = int(input())\n",
    "b = int(input())\n",
    "c = int(input())\n",
    "result = f\"num :{a} is biggest\" if a > b and a > c else (f\"num :{b} is biggest\" if b > c else f\"num :{c} is biggest\")\n",
    "print(result)"
   ]
  },
  {
   "cell_type": "markdown",
   "metadata": {},
   "source": [
    "### 05) WAP to check whether the given year is leap year or not.\n",
    "[If a year can be divisible by 4 but not divisible by 100 then it is leap year but if it is divisible by 400 then it is leap year]"
   ]
  },
  {
   "cell_type": "code",
   "execution_count": 13,
   "metadata": {},
   "outputs": [
    {
     "name": "stdout",
     "output_type": "stream",
     "text": [
      "2024 is a leap year.\n"
     ]
    }
   ],
   "source": [
    "year = int(input(\"Enter a year: \"))\n",
    "print(f\"{year} is a leap year.\" if (year % 4 == 0 and (year % 100 != 0 or year % 400 == 0)) else f\"{year} is not a leap year.\")"
   ]
  },
  {
   "cell_type": "markdown",
   "metadata": {},
   "source": [
    "### 06) WAP in python to display the name of the day according to the number given by the user."
   ]
  },
  {
   "cell_type": "code",
   "execution_count": null,
   "metadata": {},
   "outputs": [
    {
     "name": "stdout",
     "output_type": "stream",
     "text": [
      "tuesday\n"
     ]
    }
   ],
   "source": [
    "day = int(input())\n",
    "match day:\n",
    "    case 1:\n",
    "        print(\"sunday\")\n",
    "    case 2:\n",
    "        print(\"monday\")\n",
    "    case 3:\n",
    "        print(\"tuesday\")\n",
    "    case 4:\n",
    "        print(\"wednesday\")\n",
    "    case 5:\n",
    "        print(\"thursday\")\n",
    "    case 6:\n",
    "        print(\"friday\")\n",
    "    case 7:\n",
    "        print(\"saturday\")\n",
    "    case _:\n",
    "        print(\"invalid\")"
   ]
  },
  {
   "cell_type": "markdown",
   "metadata": {},
   "source": [
    "### 07) WAP to implement simple calculator which performs (add,sub,mul,div) of two no. based on user input."
   ]
  },
  {
   "cell_type": "code",
   "execution_count": 16,
   "metadata": {},
   "outputs": [
    {
     "name": "stdout",
     "output_type": "stream",
     "text": [
      "1.0\n"
     ]
    }
   ],
   "source": [
    "a = int(input(\"enter first oprand\"))\n",
    "b = int(input(\"enter second oprand\"))\n",
    "op = input(\"enter operator\")\n",
    "\n",
    "match op:\n",
    "    case '+':\n",
    "        print(f\"{a+b}\")\n",
    "    case '-':\n",
    "        print(f\"{a-b}\")\n",
    "    case '/':\n",
    "        print(f\"{a/b}\")\n",
    "    case '*':\n",
    "        print(f\"{a*b}\")"
   ]
  },
  {
   "cell_type": "markdown",
   "metadata": {},
   "source": [
    "### 08) WAP to read marks of five subjects. Calculate percentage and print class accordingly. \n",
    "Fail below 35 </br>\n",
    "Pass Class between 35 to 45 </br>\n",
    "Second Class</br>\n",
    "between 45 to 60</br>\n",
    "First Class between 60 to 70</br> \n",
    "Distinction if more than 70"
   ]
  },
  {
   "cell_type": "code",
   "execution_count": null,
   "metadata": {},
   "outputs": [
    {
     "name": "stdout",
     "output_type": "stream",
     "text": [
      "\n",
      "Results:\n",
      "Total Marks: 3618756060.0\n",
      "Percentage: 723751212.00%\n",
      "Class: Distinction\n"
     ]
    }
   ],
   "source": [
    "marks = []\n",
    "for i in range(1, 6):\n",
    "    while True:\n",
    "        mark = float(input(f\"Enter marks for subject {i}: \"))\n",
    "        if mark < 100:\n",
    "            marks.append(mark)\n",
    "            break\n",
    "        else:\n",
    "            print(\"Marks must be under 100. Please enter a valid mark.\")\n",
    "\n",
    "total = sum(marks)\n",
    "percentage = total / 5\n",
    "\n",
    "if percentage < 35:\n",
    "    grades = \"Fail\"\n",
    "elif 35 <= percentage < 45:\n",
    "    grades = \"Pass Class\"\n",
    "elif 45 <= percentage < 60:\n",
    "    grades = \"Second Class\"\n",
    "elif 60 <= percentage < 70:\n",
    "    grades = \"First Class\"\n",
    "else:\n",
    "    grades = \"Distinction\"\n",
    "\n",
    "print(\"\\nResults:\")\n",
    "print(f\"Total Marks: {total}\")\n",
    "print(f\"Percentage: {percentage:.2f}%\")\n",
    "print(f\"Class: {grades}\")\n"
   ]
  },
  {
   "cell_type": "markdown",
   "metadata": {},
   "source": [
    "### 09) Three sides of a triangle are entered through the keyboard, WAP to check whether the triangle is isosceles, equilateral, scalene or right-angled triangle."
   ]
  },
  {
   "cell_type": "code",
   "execution_count": null,
   "metadata": {},
   "outputs": [
    {
     "name": "stdout",
     "output_type": "stream",
     "text": [
      "The total electricity bill for 23.0 units is: Rs. 59.80\n"
     ]
    }
   ],
   "source": [
    "def check_triangle_type(a,b,c):\n",
    "    sides = sorted([a,b,c])\n",
    "    x,y,z= sides\n",
    "    if x + y <= z:\n",
    "        return \"Not a valid triangle\"\n",
    "\n",
    "    if a == b == c:\n",
    "        return \"Equilateral triangle\"\n",
    "    elif a == b or b == c or a == c:\n",
    "        return \"Isosceles triangle\"\n",
    "    elif x**2 + y**2 == z**2:\n",
    "        return \"Right-angled triangle\"\n",
    "    else:\n",
    "        return \"Scalene triangle\"\n",
    "\n",
    "\n",
    "a = float(input(\"Enter the length of the first side: \"))\n",
    "b = float(input(\"Enter the length of the second side: \"))\n",
    "c = float(input(\"Enter the length of the third side: \"))\n",
    "result = check_triangle_type(a, b, c)\n",
    "print(f\"The triangle is: {result}\")"
   ]
  },
  {
   "cell_type": "markdown",
   "metadata": {},
   "source": [
    "### 10) WAP to find the second largest number among three user input numbers."
   ]
  },
  {
   "cell_type": "code",
   "execution_count": null,
   "metadata": {},
   "outputs": [
    {
     "name": "stdout",
     "output_type": "stream",
     "text": [
      "3\n"
     ]
    }
   ],
   "source": [
    "array = []\n",
    "a = int(input())\n",
    "array.append(a)\n",
    "b = int(input())\n",
    "array.append(b)\n",
    "c = int(input())\n",
    "array.append(c)\n",
    "\n",
    "array.sort()\n",
    "\n",
    "print(\"second highest number is: \",array[1])\n",
    "\n"
   ]
  },
  {
   "cell_type": "markdown",
   "metadata": {},
   "source": [
    "### 11) WAP to calculate electricity bill based on following criteria. Which takes the unit from the user.\n",
    "a. First 1 to 50 units – Rs. 2.60/unit</br>\n",
    "b. Next 50 to 100 units – Rs. 3.25/unit</br>\n",
    "c. Next 100 to 200 units – Rs. 5.26/unit</br>\n",
    "d. above 200 units – Rs. 8.45/unit"
   ]
  },
  {
   "cell_type": "code",
   "execution_count": null,
   "metadata": {},
   "outputs": [],
   "source": [
    "def calculate_electricity_bill(units):\n",
    "    bill_amount = 0.0\n",
    "    if units <= 50:\n",
    "        bill_amount = units * 2.60\n",
    "    elif units <= 100:\n",
    "        bill_amount = (50 * 2.60) + ((units - 50) * 3.25)\n",
    "    elif units <= 200:\n",
    "        bill_amount = (50 * 2.60) + (50 * 3.25) + ((units - 100) * 5.26)\n",
    "    else:\n",
    "        bill_amount = (50 * 2.60) + (50 * 3.25) + (100 * 5.26) + ((units - 200) * 8.45)\n",
    "    return bill_amount\n",
    "\n",
    "units_consumed = float(input(\"Enter the number of units consumed: \"))\n",
    "if units_consumed < 0:\n",
    "    print(\"Units consumed cannot be negative. Please enter a valid number.\")\n",
    "else:\n",
    "    bill = calculate_electricity_bill(units_consumed)\n",
    "    print(f\"The total electricity bill for {units_consumed} units is: Rs. {bill:.2f}\")"
   ]
  }
 ],
 "metadata": {
  "kernelspec": {
   "display_name": "Python 3",
   "language": "python",
   "name": "python3"
  },
  "language_info": {
   "codemirror_mode": {
    "name": "ipython",
    "version": 3
   },
   "file_extension": ".py",
   "mimetype": "text/x-python",
   "name": "python",
   "nbconvert_exporter": "python",
   "pygments_lexer": "ipython3",
   "version": "3.13.0"
  }
 },
 "nbformat": 4,
 "nbformat_minor": 4
}
