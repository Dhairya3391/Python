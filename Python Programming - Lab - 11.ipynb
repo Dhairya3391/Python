{
 "cells": [
  {
   "attachments": {},
   "cell_type": "markdown",
   "metadata": {},
   "source": [
    "<a href='https://www.darshan.ac.in/'> <img src='https://www.darshan.ac.in/Content/media/DU_Logo.svg' width=\"250\" height=\"300\"/></a>\n",
    "<pre>\n",
    "<center><b><h1>Python Programming - 2301CS404</b></center>\n",
    "<center><b><h1>Lab - 11</b></center>    \n",
    "<center><b><h1>Name:Dhairya Adroja</b></center>    \n",
    "<center><b><h1>Enrollment no:24010101602</b></center>    \n",
    "<center><b><h1>Date:13/02/2025</b></center> \n",
    "<pre>"
   ]
  },
  {
   "cell_type": "markdown",
   "metadata": {},
   "source": [
    "# Modules"
   ]
  },
  {
   "cell_type": "markdown",
   "metadata": {},
   "source": [
    "### 01) WAP to create Calculator module which defines functions like add, sub,mul and div. \n",
    "### Create another .py file that uses the functions available in Calculator module."
   ]
  },
  {
   "cell_type": "code",
   "execution_count": 11,
   "metadata": {},
   "outputs": [
    {
     "name": "stdout",
     "output_type": "stream",
     "text": [
      "30\n",
      "-10\n",
      "200\n",
      "0.5\n"
     ]
    }
   ],
   "source": [
    "from Calc import *\n",
    "\n",
    "print(add(10, 20))\n",
    "print(sub(10, 20))\n",
    "print(mul(10, 20))\n",
    "print(div(10, 20))\n"
   ]
  },
  {
   "cell_type": "markdown",
   "metadata": {},
   "source": [
    "### 02) WAP to pick a random character from a given String."
   ]
  },
  {
   "cell_type": "code",
   "execution_count": null,
   "metadata": {},
   "outputs": [
    {
     "data": {
      "text/plain": [
       "'f'"
      ]
     },
     "execution_count": 15,
     "metadata": {},
     "output_type": "execute_result"
    }
   ],
   "source": [
    "import random as ran\n",
    "\n",
    "st = \"aafiya\"\n",
    "\n",
    "st[ran.randint(0, st.__len__()-1)]\n"
   ]
  },
  {
   "cell_type": "markdown",
   "metadata": {},
   "source": [
    "### 03) WAP to pick a random element from a given list."
   ]
  },
  {
   "cell_type": "code",
   "execution_count": 20,
   "metadata": {},
   "outputs": [
    {
     "data": {
      "text/plain": [
       "43"
      ]
     },
     "execution_count": 20,
     "metadata": {},
     "output_type": "execute_result"
    }
   ],
   "source": [
    "import random as ran\n",
    "\n",
    "lst = [1,3,6,2,6,43,2,5,26]\n",
    "\n",
    "lst[ran.randint(0, st.__len__()-1)]\n"
   ]
  },
  {
   "cell_type": "markdown",
   "metadata": {},
   "source": [
    "### 04) WAP to roll a dice in such a way that every time you get the same number."
   ]
  },
  {
   "cell_type": "code",
   "execution_count": 33,
   "metadata": {},
   "outputs": [
    {
     "name": "stdout",
     "output_type": "stream",
     "text": [
      "5\n"
     ]
    }
   ],
   "source": [
    "import random as ran\n",
    "\n",
    "dice = [1,2,3,4,5,6]\n",
    "\n",
    "pr = dice[ran.randint(0, dice.__len__()-1)]\n",
    "ran.seed(10)\n",
    "print(pr)"
   ]
  },
  {
   "cell_type": "markdown",
   "metadata": {},
   "source": [
    "### 05) WAP to generate 3 random integers between 100 and 999 which is divisible by 5."
   ]
  },
  {
   "cell_type": "code",
   "execution_count": 36,
   "metadata": {},
   "outputs": [
    {
     "name": "stdout",
     "output_type": "stream",
     "text": [
      "715\n",
      "835\n",
      "115\n"
     ]
    }
   ],
   "source": [
    "### 05) WAP to generate 3 random integers between 100 and 999 which is divisible by 5.\n",
    "\n",
    "import random as ran\n",
    "\n",
    "for i in range(3):\n",
    "    print(ran.randrange(100, 999, 5))"
   ]
  },
  {
   "cell_type": "markdown",
   "metadata": {},
   "source": [
    "### 06) WAP to generate 100 random lottery tickets and pick two lucky tickets from it and announce them as Winner and Runner up respectively."
   ]
  },
  {
   "cell_type": "code",
   "execution_count": null,
   "metadata": {},
   "outputs": [
    {
     "name": "stdout",
     "output_type": "stream",
     "text": [
      "Winner:  4616\n",
      "Runner:  7849\n"
     ]
    }
   ],
   "source": [
    "import random as ran\n",
    "\n",
    "lottery = []\n",
    "\n",
    "for i in range(100):\n",
    "    lottery.append(ran.randint(1000, 9999))\n",
    "\n",
    "# print(list[lottery])\n",
    "\n",
    "winner = lottery[ran.randint(0, lottery.__len__()-1)]\n",
    "lottery.remove(winner)\n",
    "runner = lottery[ran.randint(0, lottery.__len__()-1)]\n",
    "\n",
    "print(\"Winner: \", winner)\n",
    "print(\"Runner: \", runner)\n"
   ]
  },
  {
   "cell_type": "markdown",
   "metadata": {},
   "source": [
    "### 07) WAP to print current date and time in Python."
   ]
  },
  {
   "cell_type": "code",
   "execution_count": 43,
   "metadata": {},
   "outputs": [
    {
     "name": "stdout",
     "output_type": "stream",
     "text": [
      "2025-02-13 12:43:16.635820\n"
     ]
    }
   ],
   "source": [
    "import datetime\n",
    "\n",
    "print(datetime.datetime.now())"
   ]
  },
  {
   "cell_type": "markdown",
   "metadata": {},
   "source": [
    "### 08) Subtract a week (7 days) from a given date in Python."
   ]
  },
  {
   "cell_type": "code",
   "execution_count": null,
   "metadata": {},
   "outputs": [
    {
     "name": "stdout",
     "output_type": "stream",
     "text": [
      "2025-02-13 12:43:39.710449\n",
      "2025-02-06 12:43:39.710449\n"
     ]
    }
   ],
   "source": [
    "import datetime\n",
    "\n",
    "dt = datetime.datetime.now()\n",
    "\n",
    "print(dt)\n",
    "\n",
    "print(dt - datetime.timedelta(days=7))"
   ]
  },
  {
   "cell_type": "markdown",
   "metadata": {},
   "source": [
    "### 09) WAP to Calculate number of days between two given dates."
   ]
  },
  {
   "cell_type": "code",
   "execution_count": 45,
   "metadata": {},
   "outputs": [
    {
     "name": "stdout",
     "output_type": "stream",
     "text": [
      "9 days, 0:00:00\n"
     ]
    }
   ],
   "source": [
    "import datetime\n",
    "\n",
    "dt1 = datetime.datetime(2024, 1, 1)\n",
    "dt2 = datetime.datetime(2024, 1, 10)\n",
    "\n",
    "print(dt2 - dt1)"
   ]
  },
  {
   "cell_type": "markdown",
   "metadata": {},
   "source": [
    "### 10) WAP to Find the day of the week of a given date.(i.e. wether it is sunday/monday/tuesday/etc.)"
   ]
  },
  {
   "cell_type": "code",
   "execution_count": 48,
   "metadata": {},
   "outputs": [
    {
     "name": "stdout",
     "output_type": "stream",
     "text": [
      "Thursday\n"
     ]
    }
   ],
   "source": [
    "import datetime\n",
    "\n",
    "print(datetime.datetime(2025, 2, 13).strftime(\"%A\"))\n"
   ]
  },
  {
   "cell_type": "markdown",
   "metadata": {},
   "source": [
    "### 11) WAP to demonstrate the use of date time module."
   ]
  },
  {
   "cell_type": "code",
   "execution_count": null,
   "metadata": {},
   "outputs": [
    {
     "name": "stdout",
     "output_type": "stream",
     "text": [
      "2025-02-13 12:48:55.323696\n",
      "13-02-2025\n",
      "13-02-2025 12:48:55\n",
      "13-02-2025 12:48:55 PM\n",
      "13-02-2025 12:48:55 PM Thursday\n",
      "13-02-2025 12:48:55 PM Thursday February\n"
     ]
    }
   ],
   "source": [
    "import datetime\n",
    "\n",
    "print(datetime.datetime.now())\n",
    "print(datetime.datetime.now().strftime(\"%d-%m-%Y\"))\n",
    "print(datetime.datetime.now().strftime(\"%d-%m-%Y %H:%M:%S\"))\n",
    "print(datetime.datetime.now().strftime(\"%d-%m-%Y %I:%M:%S %p\"))\n",
    "print(datetime.datetime.now().strftime(\"%d-%m-%Y %I:%M:%S %p %A\"))\n",
    "print(datetime.datetime.now().strftime(\"%d-%m-%Y %I:%M:%S %p %A %B\"))\n"
   ]
  },
  {
   "cell_type": "markdown",
   "metadata": {},
   "source": [
    "### 12) WAP to demonstrate the use of the math module."
   ]
  },
  {
   "cell_type": "code",
   "execution_count": 50,
   "metadata": {},
   "outputs": [
    {
     "name": "stdout",
     "output_type": "stream",
     "text": [
      "5.0\n",
      "8.0\n",
      "3.141592653589793\n",
      "2.718281828459045\n",
      "120\n",
      "6\n",
      "5\n",
      "5\n",
      "2.302585092994046\n",
      "1.0\n",
      "3.321928094887362\n"
     ]
    }
   ],
   "source": [
    "import math\n",
    "\n",
    "print(math.sqrt(25))\n",
    "print(math.pow(2, 3))\n",
    "print(math.pi)\n",
    "print(math.e)\n",
    "print(math.factorial(5))\n",
    "print(math.ceil(5.2))\n",
    "print(math.floor(5.2))\n",
    "print(math.trunc(5.2))\n",
    "print(math.log(10))\n",
    "print(math.log10(10))\n",
    "print(math.log2(10))"
   ]
  }
 ],
 "metadata": {
  "kernelspec": {
   "display_name": "Python 3",
   "language": "python",
   "name": "python3"
  },
  "language_info": {
   "codemirror_mode": {
    "name": "ipython",
    "version": 3
   },
   "file_extension": ".py",
   "mimetype": "text/x-python",
   "name": "python",
   "nbconvert_exporter": "python",
   "pygments_lexer": "ipython3",
   "version": "3.13.0"
  }
 },
 "nbformat": 4,
 "nbformat_minor": 4
}
