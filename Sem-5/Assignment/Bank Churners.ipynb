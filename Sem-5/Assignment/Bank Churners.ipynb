{
 "cells": [
  {
   "cell_type": "markdown",
   "metadata": {},
   "source": [
    "# Bank Churners Data Cleaning and Exploration"
   ]
  },
  {
   "cell_type": "markdown",
   "metadata": {},
   "source": [
    "## 1. Load the Data"
   ]
  },
  {
   "cell_type": "code",
   "execution_count": null,
   "metadata": {},
   "outputs": [],
   "source": [
    "import pandas as pd\n",
    "import numpy as np\n",
    "import matplotlib.pyplot as plt\n",
    "import seaborn as sns\n",
    "\n",
    "df_bank = pd.read_csv('Assignment/BankChurners.csv')"
   ]
  },
  {
   "cell_type": "markdown",
   "metadata": {},
   "source": [
    "## 2. Initial Data Exploration"
   ]
  },
  {
   "cell_type": "code",
   "execution_count": null,
   "metadata": {},
   "outputs": [],
   "source": [
    "# 1. Display the first 5 rows\n",
    "print(\"First 5 rows:\")\n",
    "print(df_bank.head())"
   ]
  },
  {
   "cell_type": "code",
   "execution_count": null,
   "metadata": {},
   "outputs": [],
   "source": [
    "# 2. Display the last 5 rows\n",
    "print(\"Last 5 rows:\")\n",
    "print(df_bank.tail())"
   ]
  },
  {
   "cell_type": "code",
   "execution_count": null,
   "metadata": {},
   "outputs": [],
   "source": [
    "# 3. Get a summary of the dataframe\n",
    "print(\"Dataframe Info:\")\n",
    "print(df_bank.info())"
   ]
  },
  {
   "cell_type": "code",
   "execution_count": null,
   "metadata": {},
   "outputs": [],
   "source": [
    "# 4. Get descriptive statistics\n",
    "print(\"Descriptive Statistics:\")\n",
    "print(df_bank.describe())"
   ]
  },
  {
   "cell_type": "code",
   "execution_count": null,
   "metadata": {},
   "outputs": [],
   "source": [
    "# 5. Check the dimensions of the dataframe\n",
    "print(\"Dataframe Shape:\")\n",
    "print(df_bank.shape)"
   ]
  },
  {
   "cell_type": "markdown",
   "metadata": {},
   "source": [
    "## 3. Handling Missing Data"
   ]
  },
  {
   "cell_type": "code",
   "execution_count": null,
   "metadata": {},
   "outputs": [],
   "source": [
    "# 6. Check for missing values in each column\n",
    "print(\"Missing Values per Column:\")\n",
    "print(df_bank.isnull().sum())"
   ]
  },
  {
   "cell_type": "markdown",
   "metadata": {},
   "source": [
    "## 4. Data Cleaning and Transformation"
   ]
  },
  {
   "cell_type": "code",
   "execution_count": null,
   "metadata": {},
   "outputs": [],
   "source": [
    "# 7. Drop unnecessary columns\n",
    "df_bank.drop(['Naive_Bayes_Classifier_Attrition_Flag_Card_Category_Contacts_Count_12_mon_Dependent_count_Education_Level_Months_Inactive_12_mon_1', 'Naive_Bayes_Classifier_Attrition_Flag_Card_Category_Contacts_Count_12_mon_Dependent_count_Education_Level_Months_Inactive_12_mon_2'], axis=1, inplace=True)"
   ]
  },
  {
   "cell_type": "code",
   "execution_count": null,
   "metadata": {},
   "outputs": [],
   "source": [
    "# 8. Convert CLIENTNUM to string\n",
    "df_bank['CLIENTNUM'] = df_bank['CLIENTNUM'].astype(str)"
   ]
  },
  {
   "cell_type": "code",
   "execution_count": null,
   "metadata": {},
   "outputs": [],
   "source": [
    "# 9. Map Attrition_Flag to numerical values\n",
    "df_bank['Attrition_Flag'] = df_bank['Attrition_Flag'].map({'Existing Customer': 0, 'Attrited Customer': 1})"
   ]
  },
  {
   "cell_type": "code",
   "execution_count": null,
   "metadata": {},
   "outputs": [],
   "source": [
    "# 10. One-hot encode Gender\n",
    "df_bank = pd.get_dummies(df_bank, columns=['Gender'], drop_first=True)"
   ]
  },
  {
   "cell_type": "code",
   "execution_count": null,
   "metadata": {},
   "outputs": [],
   "source": [
    "# 11. Handle 'Unknown' in Education_Level\n",
    "df_bank['Education_Level'].replace('Unknown', 'Uneducated', inplace=True)"
   ]
  },
  {
   "cell_type": "code",
   "execution_count": null,
   "metadata": {},
   "outputs": [],
   "source": [
    "# 12. Ordinal encode Education_Level\n",
    "education_map = {'Uneducated': 0, 'High School': 1, 'College': 2, 'Graduate': 3, 'Post-Graduate': 4, 'Doctorate': 5}\n",
    "df_bank['Education_Level'] = df_bank['Education_Level'].map(education_map)"
   ]
  },
  {
   "cell_type": "code",
   "execution_count": null,
   "metadata": {},
   "outputs": [],
   "source": [
    "# 13. Handle 'Unknown' in Marital_Status\n",
    "df_bank['Marital_Status'].replace('Unknown', 'Single', inplace=True)"
   ]
  },
  {
   "cell_type": "code",
   "execution_count": null,
   "metadata": {},
   "outputs": [],
   "source": [
    "# 14. One-hot encode Marital_Status\n",
    "df_bank = pd.get_dummies(df_bank, columns=['Marital_Status'], drop_first=True)"
   ]
  },
  {
   "cell_type": "code",
   "execution_count": null,
   "metadata": {},
   "outputs": [],
   "source": [
    "# 15. Handle 'Unknown' in Income_Category\n",
    "df_bank['Income_Category'].replace('Unknown', 'Less than $40K', inplace=True)"
   ]
  },
  {
   "cell_type": "code",
   "execution_count": null,
   "metadata": {},
   "outputs": [],
   "source": [
    "# 16. Ordinal encode Income_Category\n",
    "income_map = {'Less than $40K': 0, '$40K - $60K': 1, '$60K - $80K': 2, '$80K - $120K': 3, '$120K +': 4}\n",
    "df_bank['Income_Category'] = df_bank['Income_Category'].map(income_map)"
   ]
  },
  {
   "cell_type": "code",
   "execution_count": null,
   "metadata": {},
   "outputs": [],
   "source": [
    "# 17. One-hot encode Card_Category\n",
    "df_bank = pd.get_dummies(df_bank, columns=['Card_Category'], drop_first=True)"
   ]
  },
  {
   "cell_type": "markdown",
   "metadata": {},
   "source": [
    "## 5. Handling Outliers"
   ]
  },
  {
   "cell_type": "code",
   "execution_count": null,
   "metadata": {},
   "outputs": [],
   "source": [
    "# 18. Visualize distributions of numerical columns\n",
    "numerical_cols = df_bank.select_dtypes(include=np.number).columns.tolist()\n",
    "for col in numerical_cols:\n",
    "    plt.figure(figsize=(8, 5))\n",
    "    sns.boxplot(y=df_bank[col])\n",
    "    plt.title(f'{col} Boxplot')\n",
    "    plt.show()"
   ]
  },
  {
   "cell_type": "code",
   "execution_count": null,
   "metadata": {},
   "outputs": [],
   "source": [
    "# 19. Remove outliers using the IQR method for Credit_Limit\n",
    "Q1 = df_bank['Credit_Limit'].quantile(0.25)\n",
    "Q3 = df_bank['Credit_Limit'].quantile(0.75)\n",
    "IQR = Q3 - Q1\n",
    "df_bank = df_bank[~((df_bank['Credit_Limit'] < (Q1 - 1.5 * IQR)) | (df_bank['Credit_Limit'] > (Q3 + 1.5 * IQR)))]"
   ]
  },
  {
   "cell_type": "code",
   "execution_count": null,
   "metadata": {},
   "outputs": [],
   "source": [
    "# 20. Remove outliers using the IQR method for Total_Revolving_Bal\n",
    "Q1 = df_bank['Total_Revolving_Bal'].quantile(0.25)\n",
    "Q3 = df_bank['Total_Revolving_Bal'].quantile(0.75)\n",
    "IQR = Q3 - Q1\n",
    "df_bank = df_bank[~((df_bank['Total_Revolving_Bal'] < (Q1 - 1.5 * IQR)) | (df_bank['Total_Revolving_Bal'] > (Q3 + 1.5 * IQR)))]"
   ]
  },
  {
   "cell_type": "markdown",
   "metadata": {},
   "source": [
    "## 6. Feature Engineering"
   ]
  },
  {
   "cell_type": "code",
   "execution_count": null,
   "metadata": {},
   "outputs": [],
   "source": [
    "# 21. Create a feature for credit utilization\n",
    "df_bank['Credit_Utilization'] = df_bank['Total_Revolving_Bal'] / df_bank['Credit_Limit']"
   ]
  },
  {
   "cell_type": "code",
   "execution_count": null,
   "metadata": {},
   "outputs": [],
   "source": [
    "# 22. Create a feature for average transaction amount\n",
    "df_bank['Avg_Trans_Amt'] = df_bank['Total_Trans_Amt'] / df_bank['Total_Trans_Ct']"
   ]
  },
  {
   "cell_type": "code",
   "execution_count": null,
   "metadata": {},
   "outputs": [],
   "source": [
    "# 23. Create a feature for the ratio of transactions to months on book\n",
    "df_bank['Trans_per_Month'] = df_bank['Total_Trans_Ct'] / df_bank['Months_on_book']"
   ]
  },
  {
   "cell_type": "code",
   "execution_count": null,
   "metadata": {},
   "outputs": [],
   "source": [
    "# 24. Create a feature for the ratio of contacts to months on book\n",
    "df_bank['Contacts_per_Month'] = df_bank['Contacts_Count_12_mon'] / df_bank['Months_on_book']"
   ]
  },
  {
   "cell_type": "code",
   "execution_count": null,
   "metadata": {},
   "outputs": [],
   "source": [
    "# 25. Create a feature for the ratio of inactive months to months on book\n",
    "df_bank['Inactive_Ratio'] = df_bank['Months_Inactive_12_mon'] / df_bank['Months_on_book']"
   ]
  },
  {
   "cell_type": "markdown",
   "metadata": {},
   "source": [
    "## 7. Final Exploration"
   ]
  },
  {
   "cell_type": "code",
   "execution_count": null,
   "metadata": {},
   "outputs": [],
   "source": [
    "# 26. Show the cleaned data's first 5 rows\n",
    "print(\"Cleaned Data Head:\")\n",
    "print(df_bank.head())"
   ]
  },
  {
   "cell_type": "code",
   "execution_count": null,
   "metadata": {},
   "outputs": [],
   "source": [
    "# 27. Show the cleaned data's info\n",
    "print(\"Cleaned Data Info:\")\n",
    "print(df_bank.info())"
   ]
  },
  {
   "cell_type": "code",
   "execution_count": null,
   "metadata": {},
   "outputs": [],
   "source": [
    "# 28. Show the cleaned data's description\n",
    "print(\"Cleaned Data Description:\")\n",
    "print(df_bank.describe())"
   ]
  },
  {
   "cell_type": "code",
   "execution_count": null,
   "metadata": {},
   "outputs": [],
   "source": [
    "# 29. Correlation heatmap\n",
    "plt.figure(figsize=(20, 15))\n",
    "sns.heatmap(df_bank.corr(), annot=True, cmap='coolwarm')\n",
    "plt.title('Correlation Heatmap')\n",
    "plt.show()"
   ]
  },
  {
   "cell_type": "code",
   "execution_count": null,
   "metadata": {},
   "outputs": [],
   "source": [
    "# 30. Attrition flag distribution\n",
    "plt.figure(figsize=(6, 4))\n",
    "sns.countplot(x='Attrition_Flag', data=df_bank)\n",
    "plt.title('Attrition Flag Distribution')\n",
    "plt.show()"
   ]
  }
 ],
 "metadata": {
  "kernelspec": {
   "display_name": "Python 3",
   "language": "python",
   "name": "python3"
  },
  "language_info": {
   "codemirror_mode": {
    "name": "ipython",
    "version": 3
   },
   "file_extension": ".py",
   "mimetype": "text/x-python",
   "name": "python",
   "nbconvert_exporter": "python",
   "pygments_lexer": "ipython3",
   "version": "3.10.9"
  }
 },
 "nbformat": 4,
 "nbformat_minor": 4
}
