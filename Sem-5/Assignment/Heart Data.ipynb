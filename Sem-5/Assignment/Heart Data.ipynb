{
 "cells": [
  {
   "cell_type": "markdown",
   "metadata": {},
   "source": [
    "# Heart Disease Data Cleaning and Exploration"
   ]
  },
  {
   "cell_type": "markdown",
   "metadata": {},
   "source": [
    "## 1. Load the Data"
   ]
  },
  {
   "cell_type": "code",
   "execution_count": null,
   "metadata": {},
   "outputs": [],
   "source": [
    "import pandas as pd\n",
    "import numpy as np\n",
    "import matplotlib.pyplot as plt\n",
    "import seaborn as sns\n",
    "\n",
    "df_heart = pd.read_csv('Assignment/heart.csv')"
   ]
  },
  {
   "cell_type": "markdown",
   "metadata": {},
   "source": [
    "## 2. Initial Data Exploration"
   ]
  },
  {
   "cell_type": "code",
   "execution_count": null,
   "metadata": {},
   "outputs": [],
   "source": [
    "# 1. Display the first 5 rows\n",
    "print(\"First 5 rows:\")\n",
    "print(df_heart.head())"
   ]
  },
  {
   "cell_type": "code",
   "execution_count": null,
   "metadata": {},
   "outputs": [],
   "source": [
    "# 2. Display the last 5 rows\n",
    "print(\"Last 5 rows:\")\n",
    "print(df_heart.tail())"
   ]
  },
  {
   "cell_type": "code",
   "execution_count": null,
   "metadata": {},
   "outputs": [],
   "source": [
    "# 3. Get a summary of the dataframe\n",
    "print(\"Dataframe Info:\")\n",
    "print(df_heart.info())"
   ]
  },
  {
   "cell_type": "code",
   "execution_count": null,
   "metadata": {},
   "outputs": [],
   "source": [
    "# 4. Get descriptive statistics\n",
    "print(\"Descriptive Statistics:\")\n",
    "print(df_heart.describe())"
   ]
  },
  {
   "cell_type": "code",
   "execution_count": null,
   "metadata": {},
   "outputs": [],
   "source": [
    "# 5. Check the dimensions of the dataframe\n",
    "print(\"Dataframe Shape:\")\n",
    "print(df_heart.shape)"
   ]
  },
  {
   "cell_type": "markdown",
   "metadata": {},
   "source": [
    "## 3. Handling Missing Data"
   ]
  },
  {
   "cell_type": "code",
   "execution_count": null,
   "metadata": {},
   "outputs": [],
   "source": [
    "# 6. Check for missing values in each column\n",
    "print(\"Missing Values per Column:\")\n",
    "print(df_heart.isnull().sum())"
   ]
  },
  {
   "cell_type": "markdown",
   "metadata": {},
   "source": [
    "## 4. Data Cleaning and Transformation"
   ]
  },
  {
   "cell_type": "code",
   "execution_count": null,
   "metadata": {},
   "outputs": [],
   "source": [
    "# 7. Rename columns for better readability\n",
    "df_heart.columns = ['age', 'sex', 'chest_pain_type', 'resting_blood_pressure', 'cholesterol', 'fasting_blood_sugar', 'rest_ecg', 'max_heart_rate_achieved', 'exercise_induced_angina', 'st_depression', 'st_slope', 'num_major_vessels', 'thalassemia', 'target']"
   ]
  },
  {
   "cell_type": "code",
   "execution_count": null,
   "metadata": {},
   "outputs": [],
   "source": [
    "# 8. Convert categorical variables to 'category' type\n",
    "categorical_cols = ['sex', 'chest_pain_type', 'fasting_blood_sugar', 'rest_ecg', 'exercise_induced_angina', 'st_slope', 'num_major_vessels', 'thalassemia', 'target']\n",
    "for col in categorical_cols:\n",
    "    df_heart[col] = df_heart[col].astype('category')"
   ]
  },
  {
   "cell_type": "markdown",
   "metadata": {},
   "source": [
    "## 5. Handling Duplicates"
   ]
  },
  {
   "cell_type": "code",
   "execution_count": null,
   "metadata": {},
   "outputs": [],
   "source": [
    "# 9. Check for duplicate rows\n",
    "print(f'Number of duplicate rows: {df_heart.duplicated().sum()}')"
   ]
  },
  {
   "cell_type": "code",
   "execution_count": null,
   "metadata": {},
   "outputs": [],
   "source": [
    "# 10. Remove duplicate rows\n",
    "df_heart.drop_duplicates(inplace=True)"
   ]
  },
  {
   "cell_type": "markdown",
   "metadata": {},
   "source": [
    "## 6. Handling Outliers"
   ]
  },
  {
   "cell_type": "code",
   "execution_count": null,
   "metadata": {},
   "outputs": [],
   "source": [
    "# 11. Visualize distributions of numerical columns\n",
    "numerical_cols = df_heart.select_dtypes(include=np.number).columns.tolist()\n",
    "for col in numerical_cols:\n",
    "    plt.figure(figsize=(8, 5))\n",
    "    sns.boxplot(y=df_heart[col])\n",
    "    plt.title(f'{col} Boxplot')\n",
    "    plt.show()"
   ]
  },
  {
   "cell_type": "code",
   "execution_count": null,
   "metadata": {},
   "outputs": [],
   "source": [
    "# 12. Remove outliers from 'resting_blood_pressure' using IQR\n",
    "Q1 = df_heart['resting_blood_pressure'].quantile(0.25)\n",
    "Q3 = df_heart['resting_blood_pressure'].quantile(0.75)\n",
    "IQR = Q3 - Q1\n",
    "df_heart = df_heart[~((df_heart['resting_blood_pressure'] < (Q1 - 1.5 * IQR)) | (df_heart['resting_blood_pressure'] > (Q3 + 1.5 * IQR)))]"
   ]
  },
  {
   "cell_type": "code",
   "execution_count": null,
   "metadata": {},
   "outputs": [],
   "source": [
    "# 13. Remove outliers from 'cholesterol' using IQR\n",
    "Q1 = df_heart['cholesterol'].quantile(0.25)\n",
    "Q3 = df_heart['cholesterol'].quantile(0.75)\n",
    "IQR = Q3 - Q1\n",
    "df_heart = df_heart[~((df_heart['cholesterol'] < (Q1 - 1.5 * IQR)) | (df_heart['cholesterol'] > (Q3 + 1.5 * IQR)))]"
   ]
  },
  {
   "cell_type": "code",
   "execution_count": null,
   "metadata": {},
   "outputs": [],
   "source": [
    "# 14. Remove outliers from 'max_heart_rate_achieved' using IQR\n",
    "Q1 = df_heart['max_heart_rate_achieved'].quantile(0.25)\n",
    "Q3 = df_heart['max_heart_rate_achieved'].quantile(0.75)\n",
    "IQR = Q3 - Q1\n",
    "df_heart = df_heart[~((df_heart['max_heart_rate_achieved'] < (Q1 - 1.5 * IQR)) | (df_heart['max_heart_rate_achieved'] > (Q3 + 1.5 * IQR)))]"
   ]
  },
  {
   "cell_type": "markdown",
   "metadata": {},
   "source": [
    "## 7. Feature Engineering"
   ]
  },
  {
   "cell_type": "code",
   "execution_count": null,
   "metadata": {},
   "outputs": [],
   "source": [
    "# 15. Create age groups\n",
    "df_heart['age_group'] = pd.cut(df_heart['age'], bins=[0, 40, 50, 60, 100], labels=['Young', 'Middle-aged', 'Senior', 'Elderly'])"
   ]
  },
  {
   "cell_type": "code",
   "execution_count": null,
   "metadata": {},
   "outputs": [],
   "source": [
    "# 16. Create cholesterol levels\n",
    "df_heart['cholesterol_level'] = pd.cut(df_heart['cholesterol'], bins=[0, 200, 240, 500], labels=['Normal', 'Borderline High', 'High'])"
   ]
  },
  {
   "cell_type": "code",
   "execution_count": null,
   "metadata": {},
   "outputs": [],
   "source": [
    "# 17. Create blood pressure categories\n",
    "df_heart['bp_category'] = pd.cut(df_heart['resting_blood_pressure'], bins=[0, 120, 130, 140, 200], labels=['Normal', 'Elevated', 'High BP Stage 1', 'High BP Stage 2'])"
   ]
  },
  {
   "cell_type": "markdown",
   "metadata": {},
   "source": [
    "## 8. Final Exploration"
   ]
  },
  {
   "cell_type": "code",
   "execution_count": null,
   "metadata": {},
   "outputs": [],
   "source": [
    "# 18. Show the cleaned data's first 5 rows\n",
    "print(\"Cleaned Data Head:\")\n",
    "print(df_heart.head())"
   ]
  },
  {
   "cell_type": "code",
   "execution_count": null,
   "metadata": {},
   "outputs": [],
   "source": [
    "# 19. Show the cleaned data's info\n",
    "print(\"Cleaned Data Info:\")\n",
    "print(df_heart.info())"
   ]
  },
  {
   "cell_type": "code",
   "execution_count": null,
   "metadata": {},
   "outputs": [],
   "source": [
    "# 20. Show the cleaned data's description\n",
    "print(\"Cleaned Data Description:\")\n",
    "print(df_heart.describe())"
   ]
  },
  {
   "cell_type": "code",
   "execution_count": null,
   "metadata": {},
   "outputs": [],
   "source": [
    "# 21. Correlation heatmap\n",
    "plt.figure(figsize=(15, 12))\n",
    "sns.heatmap(df_heart.corr(), annot=True, cmap='coolwarm')\n",
    "plt.title('Correlation Heatmap')\n",
    "plt.show()"
   ]
  },
  {
   "cell_type": "code",
   "execution_count": null,
   "metadata": {},
   "outputs": [],
   "source": [
    "# 22. Target distribution\n",
    "plt.figure(figsize=(6, 4))\n",
    "sns.countplot(x='target', data=df_heart)\n",
    "plt.title('Target Distribution')\n",
    "plt.show()"
   ]
  },
  {
   "cell_type": "code",
   "execution_count": null,
   "metadata": {},
   "outputs": [],
   "source": [
    "# 23. Age distribution by target\n",
    "plt.figure(figsize=(10, 6))\n",
    "sns.histplot(data=df_heart, x='age', hue='target', multiple='stack', kde=True)\n",
    "plt.title('Age Distribution by Target')\n",
    "plt.show()"
   ]
  },
  {
   "cell_type": "code",
   "execution_count": null,
   "metadata": {},
   "outputs": [],
   "source": [
    "# 24. Chest pain type vs. target\n",
    "plt.figure(figsize=(8, 5))\n",
    "sns.countplot(x='chest_pain_type', hue='target', data=df_heart)\n",
    "plt.title('Chest Pain Type vs. Target')\n",
    "plt.show()"
   ]
  },
  {
   "cell_type": "code",
   "execution_count": null,
   "metadata": {},
   "outputs": [],
   "source": [
    "# 25. Sex vs. target\n",
    "plt.figure(figsize=(6, 4))\n",
    "sns.countplot(x='sex', hue='target', data=df_heart)\n",
    "plt.title('Sex vs. Target')\n",
    "plt.show()"
   ]
  }
 ],
 "metadata": {
  "kernelspec": {
   "display_name": "Python 3",
   "language": "python",
   "name": "python3"
  },
  "language_info": {
   "codemirror_mode": {
    "name": "ipython",
    "version": 3
   },
   "file_extension": ".py",
   "mimetype": "text/x-python",
   "name": "python",
   "nbconvert_exporter": "python",
   "pygments_lexer": "ipython3",
   "version": "3.10.9"
  }
 },
 "nbformat": 4,
 "nbformat_minor": 4
}
