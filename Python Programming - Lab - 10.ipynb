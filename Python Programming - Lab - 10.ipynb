{
 "cells": [
  {
   "cell_type": "markdown",
   "metadata": {},
   "source": [
    "<a href='https://www.darshan.ac.in/'> <img src='https://www.darshan.ac.in/Content/media/DU_Logo.svg' width=\"250\" height=\"300\"/></a>\n",
    "<pre>\n",
    "<center><b><h1>Python Programming - 2301CS404</b></center>\n",
    "<center><b><h1>Lab - 10</b></center>    \n",
    "<center><b><h1>Name:Dhairya Adroja</b></center>    \n",
    "<center><b><h1>Enrollment no:24010101602</b></center>    \n",
    "<center><b><h1>Date:01/01/2025</b></center> \n",
    "<pre>"
   ]
  },
  {
   "cell_type": "markdown",
   "metadata": {},
   "source": [
    "# Exception Handling"
   ]
  },
  {
   "cell_type": "markdown",
   "metadata": {},
   "source": [
    "### 01) WAP to handle following exceptions:\n",
    "1. ZeroDivisionError\n",
    "2. ValueError\n",
    "3. TypeError\n",
    "#### Note: handle them using separate except blocks and also using single except block too."
   ]
  },
  {
   "cell_type": "code",
   "execution_count": 15,
   "metadata": {},
   "outputs": [
    {
     "name": "stdout",
     "output_type": "stream",
     "text": [
      "ZeroDivisionError\n",
      "ValueError\n",
      "TypeError\n",
      "ZeroDivisionError or ValueError or TypeError\n"
     ]
    }
   ],
   "source": [
    "try:\n",
    "    a = 10/0\n",
    "except ZeroDivisionError:\n",
    "    print(\"ZeroDivisionError\")\n",
    "try:\n",
    "    a = int('a')\n",
    "except ValueError:\n",
    "    print(\"ValueError\")\n",
    "try:\n",
    "    a = 10 + 'a'\n",
    "except TypeError:\n",
    "    print(\"TypeError\")\n",
    "\n",
    "try:\n",
    "    a = 10/0\n",
    "    a = int('a')\n",
    "    a = 10 + 'a'\n",
    "except (ZeroDivisionError, ValueError, TypeError):\n",
    "    print(\"ZeroDivisionError or ValueError or TypeError\")\n",
    "\n"
   ]
  },
  {
   "cell_type": "markdown",
   "metadata": {},
   "source": [
    "### 02)  WAP to handle following exceptions:\n",
    "1. IndexError\n",
    "2. KeyError"
   ]
  },
  {
   "cell_type": "code",
   "execution_count": 14,
   "metadata": {},
   "outputs": [
    {
     "name": "stdout",
     "output_type": "stream",
     "text": [
      "IndexError\n",
      "KeyError\n"
     ]
    }
   ],
   "source": [
    "### 02)  WAP to handle following exceptions:\n",
    "# 1. IndexError\n",
    "# 2. KeyError\n",
    "\n",
    "try:\n",
    "    a = [1, 2, 3]\n",
    "    print(a[3])\n",
    "except IndexError:\n",
    "    print(\"IndexError\")\n",
    "try:\n",
    "    a = {'a': 1, 'b': 2}\n",
    "    print(a['c'])\n",
    "except KeyError:\n",
    "    print(\"KeyError\")\n"
   ]
  },
  {
   "cell_type": "markdown",
   "metadata": {},
   "source": [
    "### 03) WAP to handle following exceptions:\n",
    "1. FileNotFoundError\n",
    "2. ModuleNotFoundError"
   ]
  },
  {
   "cell_type": "code",
   "execution_count": 13,
   "metadata": {},
   "outputs": [
    {
     "name": "stdout",
     "output_type": "stream",
     "text": [
      "FileNotFoundError\n",
      "ModuleNotFoundError\n"
     ]
    }
   ],
   "source": [
    "try:\n",
    "    with open('some_error.txt', 'r') as f:\n",
    "        pass\n",
    "except FileNotFoundError:\n",
    "    print(\"FileNotFoundError\")\n",
    "\n",
    "try:\n",
    "    import some_module \n",
    "except ModuleNotFoundError:\n",
    "    print(\"ModuleNotFoundError\")"
   ]
  },
  {
   "cell_type": "markdown",
   "metadata": {},
   "source": [
    "### 04) WAP that catches all type of exceptions in a single except block."
   ]
  },
  {
   "cell_type": "code",
   "execution_count": 12,
   "metadata": {},
   "outputs": [
    {
     "name": "stdout",
     "output_type": "stream",
     "text": [
      "Any Exception\n",
      "Any Exception\n"
     ]
    }
   ],
   "source": [
    "try:\n",
    "    a = 10/0\n",
    "    # can use any exception\n",
    "except:\n",
    "    print(\"Any Exception\")\n",
    "\n",
    "try:\n",
    "    a = 10/0\n",
    "    # can use any exception\n",
    "#Second way\n",
    "except Exception:\n",
    "    print(\"Any Exception\")"
   ]
  },
  {
   "cell_type": "markdown",
   "metadata": {},
   "source": [
    "### 05) WAP to demonstrate else  and finally block."
   ]
  },
  {
   "cell_type": "code",
   "execution_count": 11,
   "metadata": {},
   "outputs": [
    {
     "name": "stdout",
     "output_type": "stream",
     "text": [
      "No Error\n",
      "Finally block\n"
     ]
    }
   ],
   "source": [
    "try:\n",
    "    a = 10/2\n",
    "except ZeroDivisionError:\n",
    "    print(\"ZeroDivisionError\")\n",
    "else:\n",
    "    print(\"No Error\")\n",
    "finally:\n",
    "    print(\"Finally block\")"
   ]
  },
  {
   "cell_type": "markdown",
   "metadata": {},
   "source": [
    "### 06) Create a short program that prompts the user for a list of grades separated by commas. \n",
    "### Split the string into individual grades and use a list comprehension to convert each string to an integer. \n",
    "### You should use a try statement to inform the user when the values they entered cannot be converted."
   ]
  },
  {
   "cell_type": "code",
   "execution_count": 10,
   "metadata": {},
   "outputs": [
    {
     "name": "stdout",
     "output_type": "stream",
     "text": [
      "[4]\n"
     ]
    }
   ],
   "source": [
    "grades = input(\"Enter the grades separated by commas: \")\n",
    "grades_list = grades.split(',')\n",
    "try:\n",
    "    grades_list = [int(grade) for grade in grades_list]\n",
    "except ValueError:\n",
    "    print(\"Please enter valid grades\")\n",
    "\n",
    "print(grades_list)"
   ]
  },
  {
   "cell_type": "markdown",
   "metadata": {},
   "source": [
    "### 07) WAP to create an udf divide(a,b) that handles ZeroDivisionError."
   ]
  },
  {
   "cell_type": "code",
   "execution_count": 9,
   "metadata": {},
   "outputs": [
    {
     "name": "stdout",
     "output_type": "stream",
     "text": [
      "ZeroDivisionError\n"
     ]
    }
   ],
   "source": [
    "def divide(a, b):\n",
    "    try:\n",
    "        return a/b\n",
    "    except ZeroDivisionError:\n",
    "        return \"ZeroDivisionError\"\n",
    "    \n",
    "print(divide(10, 0))"
   ]
  },
  {
   "cell_type": "markdown",
   "metadata": {},
   "source": [
    "### 08) WAP that gets an age of a person form the user and raises ValueError with error message: \"Enter Valid Age\" :\n",
    "#### If the age is less than 18. \n",
    "#### otherwise print the age."
   ]
  },
  {
   "cell_type": "code",
   "execution_count": 8,
   "metadata": {},
   "outputs": [
    {
     "name": "stdout",
     "output_type": "stream",
     "text": [
      "19\n"
     ]
    }
   ],
   "source": [
    "age = int(input(\"Enter the age: \"))\n",
    "if age < 18:\n",
    "    raise ValueError(\"Enter Valid Age\")\n",
    "else:\n",
    "    print(age)\n"
   ]
  },
  {
   "cell_type": "markdown",
   "metadata": {},
   "source": [
    "### 09) WAP to raise your custom Exception named InvalidUsernameError with the error message : \"Username must be between 5 and 15 characters long\":\n",
    "#### if the given name is having characters less than 5 or greater than 15.\n",
    "#### otherwise print the given username."
   ]
  },
  {
   "cell_type": "code",
   "execution_count": 6,
   "metadata": {},
   "outputs": [
    {
     "name": "stdout",
     "output_type": "stream",
     "text": [
      "Username must be between 5 and 15 characters long\n",
      "dhairya\n",
      "Username must be between 5 and 15 characters long\n"
     ]
    }
   ],
   "source": [
    "class InvalidUsernameError(Exception):\n",
    "    def __init__(self, message):\n",
    "        self.message = message\n",
    "\n",
    "def validate_username(username):\n",
    "    if len(username) < 5 or len(username) > 15:\n",
    "        raise InvalidUsernameError(\"Username must be between 5 and 15 characters long\")\n",
    "    else:\n",
    "        print(username)\n",
    "\n",
    "try:\n",
    "    validate_username(\"dha\")\n",
    "except InvalidUsernameError as e:\n",
    "    print(e.message)\n",
    "\n",
    "try:\n",
    "    validate_username(\"dhairya\")\n",
    "except InvalidUsernameError as e:\n",
    "    print(e.message)\n",
    "\n",
    "try:\n",
    "    validate_username(\"dhairyaAdroja234\")\n",
    "except InvalidUsernameError as e:\n",
    "    print(e.message)\n"
   ]
  },
  {
   "cell_type": "markdown",
   "metadata": {},
   "source": [
    "### 10) WAP to raise your custom Exception named NegativeNumberError with the error message : \"Cannot calculate the square root of a negative number\" :\n",
    "#### if the given number is negative.\n",
    "#### otherwise print the square root of the given number."
   ]
  },
  {
   "cell_type": "code",
   "execution_count": 7,
   "metadata": {},
   "outputs": [
    {
     "name": "stdout",
     "output_type": "stream",
     "text": [
      "Cannot calculate the square root of a negative number\n",
      "2.0\n"
     ]
    }
   ],
   "source": [
    "class NegativeNumberError(Exception):\n",
    "    def __init__(self, message):\n",
    "        self.message = message\n",
    "\n",
    "def calculate_square_root(number):\n",
    "    if number < 0:\n",
    "        raise NegativeNumberError(\"Cannot calculate the square root of a negative number\")\n",
    "    else:\n",
    "        print(number ** 0.5)\n",
    "\n",
    "try:\n",
    "    calculate_square_root(-1)\n",
    "except NegativeNumberError as e:\n",
    "    print(e.message)\n",
    "\n",
    "try:\n",
    "    calculate_square_root(4)\n",
    "except NegativeNumberError as e:\n",
    "    print(e.message)\n"
   ]
  }
 ],
 "metadata": {
  "kernelspec": {
   "display_name": "Python 3",
   "language": "python",
   "name": "python3"
  },
  "language_info": {
   "codemirror_mode": {
    "name": "ipython",
    "version": 3
   },
   "file_extension": ".py",
   "mimetype": "text/x-python",
   "name": "python",
   "nbconvert_exporter": "python",
   "pygments_lexer": "ipython3",
   "version": "3.13.0"
  }
 },
 "nbformat": 4,
 "nbformat_minor": 4
}
