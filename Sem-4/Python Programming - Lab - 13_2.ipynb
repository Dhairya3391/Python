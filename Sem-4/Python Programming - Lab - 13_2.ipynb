{
 "cells": [
  {
   "cell_type": "markdown",
   "metadata": {},
   "source": [
    "<a href='https://www.darshan.ac.in/'> <img src='https://www.darshan.ac.in/Content/media/DU_Logo.svg' width=\"250\" height=\"300\"/></a>\n",
    "<pre>\n",
    "<center><b><h1>Python Programming - 2301CS404</b></center>\n",
    "<center><b><h1>Lab - 13</b></center>    \n",
    "<center><b><h1>Name:Dhairya Adroja</b></center>    \n",
    "<center><b><h1>Enrollment no:24010101602</b></center>    \n",
    "<center><b><h1>Date:20/02/2025</b></center> \n",
    "    \n",
    "<pre>"
   ]
  },
  {
   "cell_type": "markdown",
   "metadata": {},
   "source": [
    "## Continued.."
   ]
  },
  {
   "cell_type": "markdown",
   "metadata": {},
   "source": [
    "### 10) Calculate area of a ractangle using object as an argument to a method."
   ]
  },
  {
   "cell_type": "code",
   "execution_count": null,
   "metadata": {},
   "outputs": [
    {
     "name": "stdout",
     "output_type": "stream",
     "text": [
      "Area of the rectangle: 50\n"
     ]
    }
   ],
   "source": [
    "class Rectangle:\n",
    "    def __init__(self, length, width):\n",
    "        self.length = length\n",
    "        self.width = width\n",
    "\n",
    "    def calculate_area(self,rect):\n",
    "        return rect.length * rect.width\n",
    "\n",
    "rect1 = Rectangle(10, 5)\n",
    "area = rect1.calculate_area(rect1)\n",
    "print(f\"Area of the rectangle: {area}\")"
   ]
  },
  {
   "cell_type": "markdown",
   "metadata": {},
   "source": [
    "### 11) Calculate the area of a square. \n",
    "### Include a Constructor, a method to calculate area named area() and a method named output() that prints the output and is invoked by area()."
   ]
  },
  {
   "cell_type": "code",
   "execution_count": null,
   "metadata": {},
   "outputs": [
    {
     "name": "stdout",
     "output_type": "stream",
     "text": [
      "Area of the square: 16\n"
     ]
    }
   ],
   "source": [
    "class Square:\n",
    "    def __init__(self, side):\n",
    "        self.side = side\n",
    "\n",
    "    def area(self):\n",
    "        area_value = self.side ** 2\n",
    "        self.output(area_value)\n",
    "\n",
    "    def output(self, area_value):\n",
    "        print(f\"Area of the square: {area_value}\")\n",
    "\n",
    "square1 = Square(4)\n",
    "square1.area()"
   ]
  },
  {
   "cell_type": "markdown",
   "metadata": {},
   "source": [
    "### 12) Calculate the area of a rectangle. \n",
    "### Include a Constructor, a method to calculate area named area() and a method named output() that prints the output and is invoked by area().\n",
    "### Also define a class method that compares the two sides of reactangle. An object is instantiated only if the two sides are different; otherwise a message should be displayed : THIS IS SQUARE."
   ]
  },
  {
   "cell_type": "code",
   "execution_count": null,
   "metadata": {},
   "outputs": [
    {
     "name": "stdout",
     "output_type": "stream",
     "text": [
      "THIS IS SQUARE.\n",
      "Area of the rectangle: 50\n"
     ]
    }
   ],
   "source": [
    "class Rectangle:\n",
    "    def __init__(self, length, width):\n",
    "        self.length = length\n",
    "        self.width = width\n",
    "\n",
    "    @classmethod\n",
    "    def create_rectangle(self, length, width):\n",
    "        if length == width:\n",
    "            print(\"THIS IS SQUARE.\")\n",
    "            return None\n",
    "        return self(length, width)\n",
    "\n",
    "    def area(self):\n",
    "        area_value = self.length * self.width\n",
    "        self.output(area_value)\n",
    "\n",
    "    def output(self, area_value):\n",
    "        print(f\"Area of the rectangle: {area_value}\")\n",
    "\n",
    "rect1 = Rectangle.create_rectangle(5, 5)\n",
    "rect2 = Rectangle.create_rectangle(10, 5)\n",
    "\n",
    "if rect1:\n",
    "    rect1.area()\n",
    "if rect2:\n",
    "    rect2.area()"
   ]
  },
  {
   "cell_type": "markdown",
   "metadata": {},
   "source": [
    "### 13) Define a class Square having a private attribute \"side\". \n",
    "### Implement get_side and set_side methods to accees the private attribute from outside of the class."
   ]
  },
  {
   "cell_type": "code",
   "execution_count": null,
   "metadata": {},
   "outputs": [
    {
     "name": "stdout",
     "output_type": "stream",
     "text": [
      "Initial Side Length: 4\n",
      "Updated Side Length: 6\n"
     ]
    }
   ],
   "source": [
    "class Square:\n",
    "    def __init__(self, side):\n",
    "        self.__side = side\n",
    "\n",
    "    def get_side(self):\n",
    "        return self.__side\n",
    "\n",
    "    def set_side(self, new_side):\n",
    "        if new_side > 0:\n",
    "            self.__side = new_side\n",
    "        else:\n",
    "            print(\"Side length must be positive.\")\n",
    "\n",
    "square1 = Square(4)\n",
    "print(f\"Initial Side Length: {square1.get_side()}\")\n",
    "\n",
    "square1.set_side(6)\n",
    "print(f\"Updated Side Length: {square1.get_side()}\")"
   ]
  },
  {
   "cell_type": "markdown",
   "metadata": {},
   "source": [
    "### 14) Create a class Profit that has a method named getProfit that accepts profit from the user.\n",
    "### Create a class Loss that has a method named getLoss that accepts loss from the user.\n",
    "### Create a class BalanceSheet that inherits from both classes Profit and Loss and calculates the balanace. It has two methods getBalance() and printBalance()."
   ]
  },
  {
   "cell_type": "code",
   "execution_count": null,
   "metadata": {},
   "outputs": [
    {
     "name": "stdout",
     "output_type": "stream",
     "text": [
      "Enter profit amount:  15000\n",
      "Enter loss amount:  8000\n"
     ]
    },
    {
     "name": "stdout",
     "output_type": "stream",
     "text": [
      "Net Balance: 7000.0\n"
     ]
    }
   ],
   "source": [
    "class Profit:\n",
    "    def __init__(self):\n",
    "        self.profit = 0\n",
    "\n",
    "    def getProfit(self):\n",
    "        self.profit = float(input(\"Enter profit amount: \"))\n",
    "\n",
    "class Loss:\n",
    "    def __init__(self):\n",
    "        self.loss = 0\n",
    "\n",
    "    def getLoss(self):\n",
    "        self.loss = float(input(\"Enter loss amount: \"))\n",
    "\n",
    "class BalanceSheet(Profit, Loss):\n",
    "    def __init__(self):\n",
    "        super().__init__()\n",
    "        Loss.__init__(self)\n",
    "\n",
    "    def getBalance(self):\n",
    "        return self.profit - self.loss\n",
    "\n",
    "    def printBalance(self):\n",
    "        balance = self.getBalance()\n",
    "        print(f\"Net Balance: {balance}\")\n",
    "\n",
    "bs = BalanceSheet()\n",
    "\n",
    "bs.getProfit()\n",
    "bs.getLoss()\n",
    "bs.printBalance()"
   ]
  },
  {
   "attachments": {},
   "cell_type": "markdown",
   "metadata": {},
   "source": [
    "### 15) WAP to demonstrate all types of inheritance."
   ]
  },
  {
   "cell_type": "code",
   "execution_count": null,
   "metadata": {},
   "outputs": [
    {
     "name": "stdout",
     "output_type": "stream",
     "text": [
      "This is the Parent class.\n",
      "This is the Child class.\n"
     ]
    }
   ],
   "source": [
    "# Single Inheritance\n",
    "class Parent:\n",
    "    def show(self):\n",
    "        print(\"This is the Parent class.\")\n",
    "\n",
    "class Child(Parent):\n",
    "    def display(self):\n",
    "        print(\"This is the Child class.\")\n",
    "\n",
    "child = Child()\n",
    "child.show()\n",
    "child.display()"
   ]
  },
  {
   "cell_type": "code",
   "execution_count": null,
   "metadata": {},
   "outputs": [
    {
     "name": "stdout",
     "output_type": "stream",
     "text": [
      "Mother's method.\n",
      "Father's method.\n",
      "Child inherits from both Mother and Father.\n"
     ]
    }
   ],
   "source": [
    "# Multiple Inheritence\n",
    "class Mother:\n",
    "    def motherMethod(self):\n",
    "        print(\"Mother's method.\")\n",
    "\n",
    "class Father:\n",
    "    def fatherMethod(self):\n",
    "        print(\"Father's method.\")\n",
    "\n",
    "class Child(Mother, Father):\n",
    "    def childMethod(self):\n",
    "        print(\"Child inherits from both Mother and Father.\")\n",
    "\n",
    "child = Child()\n",
    "child.motherMethod()\n",
    "child.fatherMethod()\n",
    "child.childMethod()"
   ]
  },
  {
   "cell_type": "code",
   "execution_count": null,
   "metadata": {},
   "outputs": [
    {
     "name": "stdout",
     "output_type": "stream",
     "text": [
      "This is the Grandparent class.\n",
      "This is the Parent class.\n",
      "This is the Child class.\n"
     ]
    }
   ],
   "source": [
    "# Multilevel Inheritance\n",
    "class Grandparent:\n",
    "    def grandparentMethod(self):\n",
    "        print(\"This is the Grandparent class.\")\n",
    "\n",
    "class Parent(Grandparent):\n",
    "    def parentMethod(self):\n",
    "        print(\"This is the Parent class.\")\n",
    "\n",
    "class Child(Parent):\n",
    "    def childMethod(self):\n",
    "        print(\"This is the Child class.\")\n",
    "        \n",
    "child = Child()\n",
    "child.grandparentMethod()\n",
    "child.parentMethod()\n",
    "child.childMethod()"
   ]
  },
  {
   "cell_type": "code",
   "execution_count": null,
   "metadata": {},
   "outputs": [
    {
     "name": "stdout",
     "output_type": "stream",
     "text": [
      "This is the Base class.\n",
      "This is Derived1 class.\n",
      "This is the Base class.\n",
      "This is Derived2 class.\n"
     ]
    }
   ],
   "source": [
    "#Hierarchical Inheritance\n",
    "class Base:\n",
    "    def baseMethod(self):\n",
    "        print(\"This is the Base class.\")\n",
    "\n",
    "class Derived1(Base):\n",
    "    def derived1Method(self):\n",
    "        print(\"This is Derived1 class.\")\n",
    "\n",
    "class Derived2(Base):\n",
    "    def derived2Method(self):\n",
    "        print(\"This is Derived2 class.\")\n",
    "\n",
    "derived1 = Derived1()\n",
    "derived1.baseMethod()\n",
    "derived1.derived1Method()\n",
    "\n",
    "derived2 = Derived2()\n",
    "derived2.baseMethod()\n",
    "derived2.derived2Method()"
   ]
  },
  {
   "cell_type": "code",
   "execution_count": null,
   "metadata": {},
   "outputs": [
    {
     "name": "stdout",
     "output_type": "stream",
     "text": [
      "Class A method.\n",
      "Class B inherits from A.\n",
      "Class C inherits from A.\n",
      "Class D inherits from both B and C.\n"
     ]
    }
   ],
   "source": [
    "# 5. Hybrid Inheritance\n",
    "class A:\n",
    "    def methodA(self):\n",
    "        print(\"Class A method.\")\n",
    "\n",
    "class B(A):\n",
    "    def methodB(self):\n",
    "        print(\"Class B inherits from A.\")\n",
    "\n",
    "class C(A):\n",
    "    def methodC(self):\n",
    "        print(\"Class C inherits from A.\")\n",
    "\n",
    "class D(B, C):\n",
    "    def methodD(self):\n",
    "        print(\"Class D inherits from both B and C.\")\n",
    "\n",
    "objD = D()\n",
    "objD.methodA()\n",
    "objD.methodB()\n",
    "objD.methodC()\n",
    "objD.methodD()"
   ]
  },
  {
   "cell_type": "markdown",
   "metadata": {},
   "source": [
    "### 16) Create a Person class with a constructor that takes two arguments name and age. \n",
    "### Create a child class Employee that inherits from Person and adds a new attribute salary. \n",
    "### Override the __init__ method in Employee to call the parent class's __init__ method using the super() and then initialize the salary attribute."
   ]
  },
  {
   "cell_type": "code",
   "execution_count": null,
   "metadata": {},
   "outputs": [
    {
     "name": "stdout",
     "output_type": "stream",
     "text": [
      "Name: Rutul\n",
      "Age: 21\n",
      "Salary: 10000\n"
     ]
    }
   ],
   "source": [
    "class Person:\n",
    "    def __init__(self, name, age):\n",
    "        self.name = name\n",
    "        self.age = age\n",
    "\n",
    "    def display(self):\n",
    "        print(f\"Name: {self.name}\")\n",
    "        print(f\"Age: {self.age}\")\n",
    "\n",
    "class Employee(Person):\n",
    "    def __init__(self, name, age, salary):\n",
    "        super().__init__(name, age)\n",
    "        self.salary = salary\n",
    "\n",
    "    def display(self):\n",
    "        super().display()\n",
    "        print(f\"Salary: {self.salary}\")\n",
    "\n",
    "emp = Employee(\"Dhairya\", 21, 10000)\n",
    "emp.display()"
   ]
  },
  {
   "cell_type": "markdown",
   "metadata": {},
   "source": [
    "### 17) Create a Shape class with a draw method that is not implemented. \n",
    "### Create three child classes Rectangle, Circle, and Triangle that implement the draw method with their respective drawing behaviors. \n",
    "### Create a list of Shape objects that includes one instance of each child class, and then iterate through the list and call the draw method on each object."
   ]
  },
  {
   "cell_type": "code",
   "execution_count": null,
   "metadata": {},
   "outputs": [
    {
     "name": "stdout",
     "output_type": "stream",
     "text": [
      "Drawing a Rectangle\n",
      "Drawing a Circle\n",
      "Drawing a Triangle\n"
     ]
    }
   ],
   "source": [
    "from abc import ABC, abstractmethod\n",
    "class Shape():\n",
    "    @abstractmethod\n",
    "    def draw(self):\n",
    "        pass\n",
    "        \n",
    "class Rectangle(Shape):\n",
    "    def draw(self):\n",
    "        print(\"Drawing a Rectangle\")\n",
    "\n",
    "class Circle(Shape):\n",
    "    def draw(self):\n",
    "        print(\"Drawing a Circle\")\n",
    "\n",
    "class Triangle(Shape):\n",
    "    def draw(self):\n",
    "        print(\"Drawing a Triangle\")\n",
    "\n",
    "shapes = [Rectangle(), Circle(), Triangle()]\n",
    "\n",
    "for shape in shapes:\n",
    "    shape.draw()"
   ]
  }
 ],
 "metadata": {
  "kernelspec": {
   "display_name": "Python 3 (ipykernel)",
   "language": "python",
   "name": "python3"
  },
  "language_info": {
   "codemirror_mode": {
    "name": "ipython",
    "version": 3
   },
   "file_extension": ".py",
   "mimetype": "text/x-python",
   "name": "python",
   "nbconvert_exporter": "python",
   "pygments_lexer": "ipython3",
   "version": "3.12.4"
  }
 },
 "nbformat": 4,
 "nbformat_minor": 4
}
