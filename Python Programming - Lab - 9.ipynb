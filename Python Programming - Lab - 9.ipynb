{
 "cells": [
  {
   "cell_type": "markdown",
   "metadata": {},
   "source": [
    "<a href='https://www.darshan.ac.in/'> <img src='https://www.darshan.ac.in/Content/media/DU_Logo.svg' width=\"250\" height=\"300\"/></a>\n",
    "<pre>\n",
    "<center><b><h1>Python Programming - 2301CS404</b></center>\n",
    "<center><b><h1>Lab - 9</b></center>\n",
    "<center><b><h1>Name:Dhairya Adroja</b></center>    \n",
    "<center><b><h1>Enrollment no:24010101602</b></center>    \n",
    "<center><b><h1>Date:01/01/2025</b></center> \n",
    "<pre>"
   ]
  },
  {
   "cell_type": "markdown",
   "metadata": {},
   "source": [
    "# File I/O"
   ]
  },
  {
   "cell_type": "markdown",
   "metadata": {},
   "source": [
    "### 01) WAP to read and display the contents of a text file. (also try to open the file in some other directory) \n",
    "#### - in the form of a string\n",
    "#### - line by line\n",
    "#### - in the form of a list"
   ]
  },
  {
   "cell_type": "code",
   "execution_count": 6,
   "metadata": {},
   "outputs": [
    {
     "name": "stdout",
     "output_type": "stream",
     "text": [
      "\n",
      "[]\n"
     ]
    }
   ],
   "source": [
    "fp = open(\"./fileIODir/demo.txt\", \"r\")\n",
    "# 1\n",
    "file_content = fp.read()\n",
    "print(file_content)\n",
    "\n",
    "#2\n",
    "for line in fp:\n",
    "    print(line.strip())\n",
    "\n",
    "#3\n",
    "file_lines = fp.readlines()\n",
    "print(file_lines)"
   ]
  },
  {
   "cell_type": "markdown",
   "metadata": {},
   "source": [
    "### 02) WAP to create file named \"new.txt\" only if it doesn't exist."
   ]
  },
  {
   "cell_type": "code",
   "execution_count": 7,
   "metadata": {},
   "outputs": [],
   "source": [
    "fp = open(\"./fileIODir/demo.txt\", \"w\")\n",
    "fp.write(\"Hello World\")\n",
    "fp.close()"
   ]
  },
  {
   "cell_type": "markdown",
   "metadata": {},
   "source": [
    "### 03) WAP to read first 5 lines from the text file."
   ]
  },
  {
   "cell_type": "code",
   "execution_count": 23,
   "metadata": {},
   "outputs": [
    {
     "name": "stdout",
     "output_type": "stream",
     "text": [
      "HellWorld\n",
      "hi\n",
      "Hello\n",
      "hola\n",
      "jejifjaew\n"
     ]
    }
   ],
   "source": [
    "fp = open(\"./fileIODir/demo.txt\", \"r\")\n",
    "for i, line in enumerate(fp):\n",
    "            if i < 5:\n",
    "                print(line.strip()) \n",
    "            else:\n",
    "                break "
   ]
  },
  {
   "cell_type": "markdown",
   "metadata": {},
   "source": [
    "### 04) WAP to find the longest word(s) in a file"
   ]
  },
  {
   "cell_type": "code",
   "execution_count": 16,
   "metadata": {},
   "outputs": [
    {
     "name": "stdout",
     "output_type": "stream",
     "text": [
      "The longest word(s): ['HellWorld', 'jejifjaew']\n",
      "Length of the longest word: 9\n"
     ]
    }
   ],
   "source": [
    "fp = open(\"./fileIODir/demo.txt\", \"r\")\n",
    "words = fp.read().split()\n",
    "if words:\n",
    "        max_length = max(len(word) for word in words)\n",
    "        longest_words = [word for word in words if len(word) == max_length]\n",
    "        print(f\"The longest word(s): {longest_words}\")\n",
    "        print(f\"Length of the longest word: {max_length}\")\n",
    "else:\n",
    "        print(\"The file is empty.\")"
   ]
  },
  {
   "cell_type": "markdown",
   "metadata": {},
   "source": [
    "### 05) WAP to count the no. of lines, words and characters in a given text file."
   ]
  },
  {
   "cell_type": "code",
   "execution_count": 24,
   "metadata": {},
   "outputs": [
    {
     "name": "stdout",
     "output_type": "stream",
     "text": [
      "Lines: 5\n",
      "Words: 5\n",
      "Characters: 34\n"
     ]
    }
   ],
   "source": [
    "fp = open(\"./fileIODir/demo.txt\", \"r\")\n",
    "content = fp.read()\n",
    "lines = content.splitlines()\n",
    "words = content.split()\n",
    "characters = len(content)\n",
    "\n",
    "print(f\"Lines: {len(lines)}\")\n",
    "print(f\"Words: {len(words)}\")\n",
    "print(f\"Characters: {characters}\")"
   ]
  },
  {
   "cell_type": "markdown",
   "metadata": {},
   "source": [
    "### 06) WAP to copy the content of a file to the another file."
   ]
  },
  {
   "cell_type": "code",
   "execution_count": 25,
   "metadata": {},
   "outputs": [
    {
     "name": "stdout",
     "output_type": "stream",
     "text": [
      "Content copied from './fileIODir/demo.txt' to './fileIODir/destination.txt'.\n"
     ]
    }
   ],
   "source": [
    "source_file = \"./fileIODir/demo.txt\"\n",
    "destination_file = \"./fileIODir/destination.txt\"\n",
    "fp1 = open(source_file, \"r\")\n",
    "contentOfFile = fp1.read()\n",
    "fp2 = open(destination_file, \"w\")\n",
    "fp2.write(contentOfFile)\n",
    "print(f\"Content copied from '{source_file}' to '{destination_file}'.\")"
   ]
  },
  {
   "cell_type": "markdown",
   "metadata": {},
   "source": [
    "### 07) WAP to find the size of the text file. "
   ]
  },
  {
   "cell_type": "code",
   "execution_count": 30,
   "metadata": {},
   "outputs": [
    {
     "data": {
      "text/plain": [
       "34"
      ]
     },
     "execution_count": 30,
     "metadata": {},
     "output_type": "execute_result"
    }
   ],
   "source": [
    "fp = open(\"./fileIODir/demo.txt\", \"r\")\n",
    "fileS = fp.read()\n",
    "fileS.__len__()"
   ]
  },
  {
   "cell_type": "markdown",
   "metadata": {},
   "source": [
    "### 08) WAP to create an UDF named frequency to count occurances of the specific word in a given text file."
   ]
  },
  {
   "cell_type": "code",
   "execution_count": 20,
   "metadata": {},
   "outputs": [
    {
     "name": "stdout",
     "output_type": "stream",
     "text": [
      "The word 'demo2' occurred 1 times.\n"
     ]
    }
   ],
   "source": [
    "def frequency(file_path, word):\n",
    "    fp= open(file_path, 'r')\n",
    "    content = fp.read()\n",
    "    count = content.lower().split().count(word.lower())\n",
    "    return count\n",
    "\n",
    "file_path = \"./fileIODir/demo.txt\"\n",
    "word = input(\"Enter the word to find its frequency: \")\n",
    "count = frequency(file_path, word)\n",
    "print(f\"The word '{word}' occurred {count} times.\")"
   ]
  },
  {
   "cell_type": "markdown",
   "metadata": {},
   "source": [
    "### 09) WAP to get the score of five subjects from the user, store them in a file. Fetch those marks and find the highest score."
   ]
  },
  {
   "cell_type": "code",
   "execution_count": null,
   "metadata": {},
   "outputs": [],
   "source": [
    "file_path = \"./fileIODir/scores.txt\"\n",
    "\n",
    "fp = open(file_path, 'w')\n",
    "scores = []\n",
    "for i in range(5):\n",
    "    score = int(input(f\"Enter score for subject {i + 1}: \"))\n",
    "    scores.append(score)\n",
    "    fp.write(f\"{score}\\n\")\n",
    "\n",
    "fp2 = open(file_path, 'r')\n",
    "scores = [int(line.strip()) for line in fp2]\n",
    "print(f\"The highest score is: {max(scores)}\")\n"
   ]
  },
  {
   "cell_type": "markdown",
   "metadata": {},
   "source": [
    "### 10) WAP to write first 100 prime numbers to a file named primenumbers.txt \n",
    "(Note: each number should be in new line)"
   ]
  },
  {
   "cell_type": "code",
   "execution_count": null,
   "metadata": {},
   "outputs": [],
   "source": [
    "file_path = \"./fileIODir/primenumbers.txt\"\n",
    "\n",
    "def is_prime(num):\n",
    "    if num < 2:\n",
    "        return False\n",
    "    for i in range(2, int(num ** 0.5) + 1):\n",
    "        if num % i == 0:\n",
    "            return False\n",
    "    return True\n",
    "\n",
    "primes = []\n",
    "n = 2\n",
    "while len(primes) < 100:\n",
    "    if is_prime(n):\n",
    "        primes.append(n)\n",
    "    n += 1\n",
    "\n",
    "fp =  open(file_path, 'w') \n",
    "for prime in primes:\n",
    "    fp.write(f\"{prime}\\n\")\n",
    "print(f\"First 100 prime numbers written to '{file_path}'.\")"
   ]
  },
  {
   "cell_type": "markdown",
   "metadata": {},
   "source": [
    "### 11) WAP to merge two files and write it in a new file."
   ]
  },
  {
   "cell_type": "code",
   "execution_count": null,
   "metadata": {},
   "outputs": [],
   "source": [
    "file1 = \"./fileIODir/file1.txt\"\n",
    "file2 = \"./fileIODir/file2.txt\"\n",
    "merged_file = \"./fileIODir/merged.txt\"\n",
    "\n",
    "f1 =  open(file1, 'r')  \n",
    "f2 =open(file2, 'r') \n",
    "mf = open(merged_file, 'w') \n",
    "mf.write(f1.read())\n",
    "mf.write(\"\\n\")\n",
    "mf.write(f2.read())\n",
    "print(f\"Files '{file1}' and '{file2}' merged into '{merged_file}'.\")"
   ]
  },
  {
   "cell_type": "markdown",
   "metadata": {},
   "source": [
    "### 12) WAP to replace word1 by word2 of a text file. Write the updated data to new file."
   ]
  },
  {
   "cell_type": "code",
   "execution_count": null,
   "metadata": {},
   "outputs": [],
   "source": [
    "source_file = \"./fileIODir/source.txt\"\n",
    "new_file = \"./fileIODir/updated.txt\"\n",
    "word1 = input(\"Enter the word to replace: \")\n",
    "word2 = input(\"Enter the new word: \")\n",
    "\n",
    "src =  open(source_file, 'r') \n",
    "content = src.read().replace(word1, word2)\n",
    "dest =  open(new_file, 'w')\n",
    "dest.write(content)\n",
    "print(f\"Updated content written to '{new_file}'.\")"
   ]
  },
  {
   "cell_type": "markdown",
   "metadata": {},
   "source": [
    "### 13) Demonstrate tell() and seek() for all the cases(seek from beginning-end-current position) taking a suitable example of your choice."
   ]
  },
  {
   "cell_type": "code",
   "execution_count": null,
   "metadata": {},
   "outputs": [],
   "source": [
    "file_path = \"./fileIODir/example.txt\"\n",
    "\n",
    "file =  open(file_path, 'w+') \n",
    "file.write(\"Hello, this is a test file for seek() and tell().\")\n",
    "file.seek(0)  \n",
    "print(\"Initial Position:\", file.tell())\n",
    "\n",
    "file.read(5)  \n",
    "print(\"Position after reading 5 characters:\", file.tell())\n",
    "\n",
    "file.seek(10)  \n",
    "print(\"Position after seeking to 10th character:\", file.tell())\n",
    "\n",
    "file.seek(-10, 2)  \n",
    "print(\"Position 10 characters before the end:\", file.tell())\n",
    "\n",
    "file.seek(0, 2)  \n",
    "print(\"Position at the end of the file:\", file.tell())"
   ]
  }
 ],
 "metadata": {
  "kernelspec": {
   "display_name": "Python 3",
   "language": "python",
   "name": "python3"
  },
  "language_info": {
   "codemirror_mode": {
    "name": "ipython",
    "version": 3
   },
   "file_extension": ".py",
   "mimetype": "text/x-python",
   "name": "python",
   "nbconvert_exporter": "python",
   "pygments_lexer": "ipython3",
   "version": "3.13.0"
  }
 },
 "nbformat": 4,
 "nbformat_minor": 4
}
